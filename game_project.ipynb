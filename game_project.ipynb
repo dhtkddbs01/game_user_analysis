{
  "cells": [
    {
      "cell_type": "code",
      "execution_count": 1,
      "metadata": {
        "colab": {
          "base_uri": "https://localhost:8080/"
        },
        "id": "g35al6DDYC3X",
        "outputId": "f91ebbf3-cd7c-4cc0-a350-9507b9c816bb"
      },
      "outputs": [],
      "source": [
        "# ▶ Warnings 제거\n",
        "import warnings\n",
        "warnings.filterwarnings('ignore')"
      ]
    },
    {
      "cell_type": "code",
      "execution_count": 2,
      "metadata": {},
      "outputs": [
        {
          "name": "stdout",
          "output_type": "stream",
          "text": [
            "  Operation  Pickle (seconds)  Parquet (seconds)\n",
            "0      Save          4.508411           7.441989\n",
            "1      Load          0.937759           1.791542\n"
          ]
        }
      ],
      "source": [
        "import pandas as pd\n",
        "import time\n",
        "\n",
        "# 데이터 로드\n",
        "import os\n",
        "os.chdir(\"C:/Users/oh/Desktop/project\")\n",
        "os.getcwd()\n",
        "df = pd.read_csv('game_data.csv', sep=\",\")\n",
        "\n",
        "# Pickle로 저장\n",
        "start_pickle_save = time.time()\n",
        "df.to_pickle('game_data.pkl')\n",
        "end_pickle_save = time.time()\n",
        "pickle_save_time = end_pickle_save - start_pickle_save\n",
        "\n",
        "# Parquet로 저장\n",
        "start_parquet_save = time.time()\n",
        "df.to_parquet('game_data.parquet')\n",
        "end_parquet_save = time.time()\n",
        "parquet_save_time = end_parquet_save - start_parquet_save\n",
        "\n",
        "# Pickle에서 로드\n",
        "start_pickle_load = time.time()\n",
        "df_pickle = pd.read_pickle('game_data.pkl')\n",
        "end_pickle_load = time.time()\n",
        "pickle_load_time = end_pickle_load - start_pickle_load\n",
        "\n",
        "# Parquet에서 로드\n",
        "start_parquet_load = time.time()\n",
        "df_parquet = pd.read_parquet('game_data.parquet')\n",
        "end_parquet_load = time.time()\n",
        "parquet_load_time = end_parquet_load - start_parquet_load\n",
        "\n",
        "# 결과 비교\n",
        "time_comparison = pd.DataFrame({\n",
        "    'Operation': ['Save', 'Load'],\n",
        "    'Pickle (seconds)': [pickle_save_time, pickle_load_time],\n",
        "    'Parquet (seconds)': [parquet_save_time, parquet_load_time]\n",
        "})\n",
        "\n",
        "print(time_comparison)\n"
      ]
    },
    {
      "cell_type": "markdown",
      "metadata": {},
      "source": [
        "### Pickle\n",
        "\n",
        "- 형식: Python 고유의 바이너리 직렬화 형식.\n",
        "- 속도: 데이터의 구조와 크기에 따라 다르지만, 일반적으로 빠르게 저장하고 로드할 수 있습니다.\n",
        "- 유연성: Python 객체를 포함한 다양한 데이터 타입을 저장할 수 있습니다.\n",
        "- 호환성: Python 환경에서만 사용 가능합니다. 다른 언어와의 호환성이 부족합니다.\n",
        "- 용량: 압축 기능이 없어서 데이터 크기가 클 수 있습니다.\n",
        "### Parquet\n",
        "- 형식: 열 지향(columnar) 저장 형식으로 Apache Arrow 프로젝트의 일부입니다.\n",
        "- 속도: 대용량 데이터를 다룰 때 특히 효율적이며, 열 지향 특성 덕분에 특정 열을 빠르게 읽을 수 있습니다.\n",
        "- 유연성: 주로 데이터 프레임과 같은 구조화된 데이터를 저장합니다.\n",
        "- 호환성: 다양한 언어와 도구(R, Python, Spark 등)에서 사용할 수 있어 호환성이 뛰어납니다.\n",
        "- 용량: 기본적으로 데이터를 압축해서 저장하므로, 저장 용량이 줄어듭니다.\n",
        "#### 차이점 요약\n",
        "- 저장 형식: Pickle은 Python 고유의 바이너리 형식, Parquet은 열 지향 저장 형식.\n",
        "- 호환성: Pickle은 Python에 특화, Parquet은 다양한 언어와 도구에서 사용 가능.\n",
        "- 압축: Pickle은 압축 기능이 없고, Parquet은 기본적으로 데이터를 압축해서 저장.\n",
        "- 읽기 성능: Parquet은 특정 열을 빠르게 읽을 수 있어서 대용량 데이터에서 효율적.\n",
        "- 데이터 유형: Pickle은 Python 객체를 포함한 모든 데이터 타입을 저장할 수 있지만, Parquet은 구조화된 데이터에 적합.\n",
        "\n",
        "이 차이점들을 고려하여, 데이터의 특성과 사용 목적에 따라 적합한 형식을 선택하면 됩니다. 예를 들어, 대용량 데이터를 다양한 언어와 도구에서 사용하려면 Parquet을 선택하는 것이 좋고, Python 환경에서만 사용할 데이터라면 Pickle을 사용하는 것이 더 간편할 수 있습니다."
      ]
    },
    {
      "cell_type": "code",
      "execution_count": 3,
      "metadata": {
        "colab": {
          "base_uri": "https://localhost:8080/"
        },
        "id": "WNPTSTfVYCjy",
        "outputId": "91d2638b-2aa3-426e-b45d-541c038aa8f8"
      },
      "outputs": [],
      "source": [
        "import matplotlib.pyplot as plt\n",
        "import matplotlib.font_manager as fm\n",
        "\n",
        "# 폰트 경로 설정\n",
        "font_path = 'c:/USERS/OH/APPDATA/LOCAL/MICROSOFT/WINDOWS/FONTS/D2CODING-VER1.3.2-20180524-ALL_0.TTC'\n",
        "\n",
        "# 폰트 이름 가져오기\n",
        "font_name = fm.FontProperties(fname=font_path).get_name()\n",
        "\n",
        "# Matplotlib의 폰트를 설정\n",
        "plt.rc('font', family=font_name)\n",
        "\n",
        "# 폰트 설정\n",
        "plt.rcParams['font.family'] = font_name\n",
        "\n",
        "# 마이너스 기호도 정상적으로 표시되도록 설정\n",
        "plt.rcParams['axes.unicode_minus'] = False"
      ]
    },
    {
      "cell_type": "markdown",
      "metadata": {
        "id": "z5Dcu4n5YByg"
      },
      "source": [
        "## **[게임]**\n",
        "---\n",
        "\n",
        "* 데이터 명세 ⬇\n",
        "\n",
        "|Column|Description|\n",
        "|:---|:---|\n",
        "|ID |ID|\n",
        "|groupId |매치 내에서 그룹을 식별하는 ID|\n",
        "|matchId |매치를 식별하는 ID|\n",
        "|assists |이 플레이어가 공격하여 팀원이 죽인 적 플레이어의 수|\n",
        "|boosts |사용한 부스트 아이템의 수|\n",
        "|damageDealt |총 가한 피해량|\n",
        "|DBNOs |적 플레이어를 다운시킨 횟수|\n",
        "|headshotKills |헤드샷킬수|\n",
        "|heals |heal 아이템 사용횟수|\n",
        "|killPlace |매치 내 순위(적 플레이어를 죽인 횟수에 따른)|\n",
        "|killPoints |적제압포인트|\n",
        "|kills |적 제압횟수|\n",
        "|killStreaks |짧은 시간 내에 적 플레이어를 죽인 최대 횟수|\n",
        "|longestKill |적을 죽은시점에서 나와 죽은적의 거리(다운 시킨 후 차량으로 이동한 경우 큰 데이터가 발생할 수 있음|\n",
        "|maxPlace |최악의 순위|\n",
        "|numGroups |그룹넘버|\n",
        "|revives |팀원을 부활시킨 횟수|\n",
        "|rideDistance |이동수단 타고 이동거리|\n",
        "|roadKills |차량 내에서 이루어진 적 제압횟수|\n",
        "|swimDistance|수영한거리|\n",
        "|teamKills |같은 팀원을 제압한 횟수|\n",
        "|vehicleDestroys|자동차 파괴횟수|\n",
        "|walkDistance|도보이동거리|\n",
        "|weaponsAcquired|무기 획득횟수|\n",
        "|winPoints|승점|\n",
        "|winPlacePerc|승률|\n"
      ]
    },
    {
      "cell_type": "markdown",
      "metadata": {
        "id": "6FDHsqI0YH_a"
      },
      "source": [
        "데이터 명세를 보다보니 배틀그라운드라는 게임의 데이터와 비슷해보임"
      ]
    },
    {
      "cell_type": "code",
      "execution_count": 4,
      "metadata": {
        "colab": {
          "base_uri": "https://localhost:8080/",
          "height": 273
        },
        "id": "j7zksBWDYGe_",
        "outputId": "59e4d09e-0111-46ef-e4e3-a8edaec2975e"
      },
      "outputs": [
        {
          "data": {
            "text/html": [
              "<div>\n",
              "<style scoped>\n",
              "    .dataframe tbody tr th:only-of-type {\n",
              "        vertical-align: middle;\n",
              "    }\n",
              "\n",
              "    .dataframe tbody tr th {\n",
              "        vertical-align: top;\n",
              "    }\n",
              "\n",
              "    .dataframe thead th {\n",
              "        text-align: right;\n",
              "    }\n",
              "</style>\n",
              "<table border=\"1\" class=\"dataframe\">\n",
              "  <thead>\n",
              "    <tr style=\"text-align: right;\">\n",
              "      <th></th>\n",
              "      <th>Unnamed: 0</th>\n",
              "      <th>Id</th>\n",
              "      <th>groupId</th>\n",
              "      <th>matchId</th>\n",
              "      <th>assists</th>\n",
              "      <th>boosts</th>\n",
              "      <th>damageDealt</th>\n",
              "      <th>DBNOs</th>\n",
              "      <th>headshotKills</th>\n",
              "      <th>heals</th>\n",
              "      <th>...</th>\n",
              "      <th>revives</th>\n",
              "      <th>rideDistance</th>\n",
              "      <th>roadKills</th>\n",
              "      <th>swimDistance</th>\n",
              "      <th>teamKills</th>\n",
              "      <th>vehicleDestroys</th>\n",
              "      <th>walkDistance</th>\n",
              "      <th>weaponsAcquired</th>\n",
              "      <th>winPoints</th>\n",
              "      <th>winPlacePerc</th>\n",
              "    </tr>\n",
              "  </thead>\n",
              "  <tbody>\n",
              "    <tr>\n",
              "      <th>0</th>\n",
              "      <td>0</td>\n",
              "      <td>0</td>\n",
              "      <td>24</td>\n",
              "      <td>0</td>\n",
              "      <td>0</td>\n",
              "      <td>5</td>\n",
              "      <td>247.30</td>\n",
              "      <td>2</td>\n",
              "      <td>0</td>\n",
              "      <td>4</td>\n",
              "      <td>...</td>\n",
              "      <td>1</td>\n",
              "      <td>591.3</td>\n",
              "      <td>0</td>\n",
              "      <td>0.0</td>\n",
              "      <td>0</td>\n",
              "      <td>0</td>\n",
              "      <td>782.40</td>\n",
              "      <td>4</td>\n",
              "      <td>1458</td>\n",
              "      <td>0.8571</td>\n",
              "    </tr>\n",
              "    <tr>\n",
              "      <th>1</th>\n",
              "      <td>1</td>\n",
              "      <td>1</td>\n",
              "      <td>440875</td>\n",
              "      <td>1</td>\n",
              "      <td>1</td>\n",
              "      <td>0</td>\n",
              "      <td>37.65</td>\n",
              "      <td>1</td>\n",
              "      <td>1</td>\n",
              "      <td>0</td>\n",
              "      <td>...</td>\n",
              "      <td>0</td>\n",
              "      <td>0.0</td>\n",
              "      <td>0</td>\n",
              "      <td>0.0</td>\n",
              "      <td>0</td>\n",
              "      <td>0</td>\n",
              "      <td>119.60</td>\n",
              "      <td>3</td>\n",
              "      <td>1511</td>\n",
              "      <td>0.0400</td>\n",
              "    </tr>\n",
              "    <tr>\n",
              "      <th>2</th>\n",
              "      <td>2</td>\n",
              "      <td>2</td>\n",
              "      <td>878242</td>\n",
              "      <td>2</td>\n",
              "      <td>0</td>\n",
              "      <td>1</td>\n",
              "      <td>93.73</td>\n",
              "      <td>1</td>\n",
              "      <td>0</td>\n",
              "      <td>2</td>\n",
              "      <td>...</td>\n",
              "      <td>1</td>\n",
              "      <td>0.0</td>\n",
              "      <td>0</td>\n",
              "      <td>0.0</td>\n",
              "      <td>0</td>\n",
              "      <td>0</td>\n",
              "      <td>3248.00</td>\n",
              "      <td>5</td>\n",
              "      <td>1583</td>\n",
              "      <td>0.7407</td>\n",
              "    </tr>\n",
              "    <tr>\n",
              "      <th>3</th>\n",
              "      <td>3</td>\n",
              "      <td>3</td>\n",
              "      <td>1319841</td>\n",
              "      <td>3</td>\n",
              "      <td>0</td>\n",
              "      <td>0</td>\n",
              "      <td>95.88</td>\n",
              "      <td>0</td>\n",
              "      <td>0</td>\n",
              "      <td>0</td>\n",
              "      <td>...</td>\n",
              "      <td>0</td>\n",
              "      <td>0.0</td>\n",
              "      <td>0</td>\n",
              "      <td>0.0</td>\n",
              "      <td>0</td>\n",
              "      <td>0</td>\n",
              "      <td>21.49</td>\n",
              "      <td>1</td>\n",
              "      <td>1489</td>\n",
              "      <td>0.1146</td>\n",
              "    </tr>\n",
              "    <tr>\n",
              "      <th>4</th>\n",
              "      <td>4</td>\n",
              "      <td>4</td>\n",
              "      <td>1757883</td>\n",
              "      <td>4</td>\n",
              "      <td>0</td>\n",
              "      <td>1</td>\n",
              "      <td>0.00</td>\n",
              "      <td>0</td>\n",
              "      <td>0</td>\n",
              "      <td>1</td>\n",
              "      <td>...</td>\n",
              "      <td>0</td>\n",
              "      <td>0.0</td>\n",
              "      <td>0</td>\n",
              "      <td>0.0</td>\n",
              "      <td>0</td>\n",
              "      <td>0</td>\n",
              "      <td>640.80</td>\n",
              "      <td>4</td>\n",
              "      <td>1475</td>\n",
              "      <td>0.5217</td>\n",
              "    </tr>\n",
              "  </tbody>\n",
              "</table>\n",
              "<p>5 rows × 27 columns</p>\n",
              "</div>"
            ],
            "text/plain": [
              "   Unnamed: 0  Id  groupId  matchId  assists  boosts  damageDealt  DBNOs  \\\n",
              "0           0   0       24        0        0       5       247.30      2   \n",
              "1           1   1   440875        1        1       0        37.65      1   \n",
              "2           2   2   878242        2        0       1        93.73      1   \n",
              "3           3   3  1319841        3        0       0        95.88      0   \n",
              "4           4   4  1757883        4        0       1         0.00      0   \n",
              "\n",
              "   headshotKills  heals  ...  revives  rideDistance  roadKills  swimDistance  \\\n",
              "0              0      4  ...        1         591.3          0           0.0   \n",
              "1              1      0  ...        0           0.0          0           0.0   \n",
              "2              0      2  ...        1           0.0          0           0.0   \n",
              "3              0      0  ...        0           0.0          0           0.0   \n",
              "4              0      1  ...        0           0.0          0           0.0   \n",
              "\n",
              "   teamKills  vehicleDestroys  walkDistance  weaponsAcquired  winPoints  \\\n",
              "0          0                0        782.40                4       1458   \n",
              "1          0                0        119.60                3       1511   \n",
              "2          0                0       3248.00                5       1583   \n",
              "3          0                0         21.49                1       1489   \n",
              "4          0                0        640.80                4       1475   \n",
              "\n",
              "   winPlacePerc  \n",
              "0        0.8571  \n",
              "1        0.0400  \n",
              "2        0.7407  \n",
              "3        0.1146  \n",
              "4        0.5217  \n",
              "\n",
              "[5 rows x 27 columns]"
            ]
          },
          "execution_count": 4,
          "metadata": {},
          "output_type": "execute_result"
        }
      ],
      "source": [
        "df.head()"
      ]
    },
    {
      "cell_type": "code",
      "execution_count": 5,
      "metadata": {},
      "outputs": [
        {
          "name": "stdout",
          "output_type": "stream",
          "text": [
            "<class 'pandas.core.frame.DataFrame'>\n",
            "RangeIndex: 6225249 entries, 0 to 6225248\n",
            "Data columns (total 27 columns):\n",
            " #   Column           Dtype  \n",
            "---  ------           -----  \n",
            " 0   Unnamed: 0       int64  \n",
            " 1   Id               int64  \n",
            " 2   groupId          int64  \n",
            " 3   matchId          int64  \n",
            " 4   assists          int64  \n",
            " 5   boosts           int64  \n",
            " 6   damageDealt      float64\n",
            " 7   DBNOs            int64  \n",
            " 8   headshotKills    int64  \n",
            " 9   heals            int64  \n",
            " 10  killPlace        int64  \n",
            " 11  killPoints       int64  \n",
            " 12  kills            int64  \n",
            " 13  killStreaks      int64  \n",
            " 14  longestKill      float64\n",
            " 15  maxPlace         int64  \n",
            " 16  numGroups        int64  \n",
            " 17  revives          int64  \n",
            " 18  rideDistance     float64\n",
            " 19  roadKills        int64  \n",
            " 20  swimDistance     float64\n",
            " 21  teamKills        int64  \n",
            " 22  vehicleDestroys  int64  \n",
            " 23  walkDistance     float64\n",
            " 24  weaponsAcquired  int64  \n",
            " 25  winPoints        int64  \n",
            " 26  winPlacePerc     float64\n",
            "dtypes: float64(6), int64(21)\n",
            "memory usage: 1.3 GB\n"
          ]
        }
      ],
      "source": [
        "df.info()"
      ]
    },
    {
      "cell_type": "code",
      "execution_count": 6,
      "metadata": {
        "colab": {
          "base_uri": "https://localhost:8080/"
        },
        "id": "zHhPTvbYX-1M",
        "outputId": "8fff62e6-03cf-4f61-9ce6-12d00ab46e3c"
      },
      "outputs": [
        {
          "data": {
            "text/plain": [
              "100"
            ]
          },
          "execution_count": 6,
          "metadata": {},
          "output_type": "execute_result"
        }
      ],
      "source": [
        "df['numGroups'].max()"
      ]
    },
    {
      "cell_type": "code",
      "execution_count": 17,
      "metadata": {},
      "outputs": [
        {
          "data": {
            "text/plain": [
              "Index(['Unnamed: 0', 'Id', 'groupId', 'matchId', 'assists', 'boosts',\n",
              "       'damageDealt', 'DBNOs', 'headshotKills', 'heals', 'killPlace',\n",
              "       'killPoints', 'kills', 'killStreaks', 'longestKill', 'maxPlace',\n",
              "       'numGroups', 'revives', 'rideDistance', 'roadKills', 'swimDistance',\n",
              "       'teamKills', 'vehicleDestroys', 'walkDistance', 'weaponsAcquired',\n",
              "       'winPoints', 'winPlacePerc', '_totalDistance'],\n",
              "      dtype='object')"
            ]
          },
          "execution_count": 17,
          "metadata": {},
          "output_type": "execute_result"
        }
      ],
      "source": [
        "df.columns"
      ]
    },
    {
      "cell_type": "markdown",
      "metadata": {
        "id": "igYOOw7FYKF8"
      },
      "source": [
        "경기는 그룹끼리의 대결도 존재하고 혼자서 대결하는 게임도 존재\n",
        "\n",
        "최대 인원은 100명"
      ]
    },
    {
      "cell_type": "markdown",
      "metadata": {
        "id": "0dOC-oakYLUn"
      },
      "source": [
        "### 데이터 살펴보기"
      ]
    },
    {
      "cell_type": "code",
      "execution_count": 7,
      "metadata": {
        "colab": {
          "base_uri": "https://localhost:8080/"
        },
        "id": "TMENouxRYKfw",
        "outputId": "4533849e-f8a1-4184-fe23-430be9b57be0"
      },
      "outputs": [
        {
          "data": {
            "text/plain": [
              "(6225249, 27)"
            ]
          },
          "execution_count": 7,
          "metadata": {},
          "output_type": "execute_result"
        }
      ],
      "source": [
        "df.shape"
      ]
    },
    {
      "cell_type": "markdown",
      "metadata": {},
      "source": [
        "총 6225249만 개의 데이터"
      ]
    },
    {
      "cell_type": "code",
      "execution_count": 8,
      "metadata": {
        "colab": {
          "base_uri": "https://localhost:8080/"
        },
        "id": "SlPkbR_3YMdo",
        "outputId": "7aecd31c-652f-4cbd-d37f-bdcf41de8f63"
      },
      "outputs": [
        {
          "data": {
            "text/plain": [
              "Unnamed: 0           int64\n",
              "Id                   int64\n",
              "groupId              int64\n",
              "matchId              int64\n",
              "assists              int64\n",
              "boosts               int64\n",
              "damageDealt        float64\n",
              "DBNOs                int64\n",
              "headshotKills        int64\n",
              "heals                int64\n",
              "killPlace            int64\n",
              "killPoints           int64\n",
              "kills                int64\n",
              "killStreaks          int64\n",
              "longestKill        float64\n",
              "maxPlace             int64\n",
              "numGroups            int64\n",
              "revives              int64\n",
              "rideDistance       float64\n",
              "roadKills            int64\n",
              "swimDistance       float64\n",
              "teamKills            int64\n",
              "vehicleDestroys      int64\n",
              "walkDistance       float64\n",
              "weaponsAcquired      int64\n",
              "winPoints            int64\n",
              "winPlacePerc       float64\n",
              "dtype: object"
            ]
          },
          "execution_count": 8,
          "metadata": {},
          "output_type": "execute_result"
        }
      ],
      "source": [
        "df.dtypes"
      ]
    },
    {
      "cell_type": "code",
      "execution_count": 9,
      "metadata": {
        "colab": {
          "base_uri": "https://localhost:8080/"
        },
        "id": "1BRtJOQ_YM0u",
        "outputId": "5cb360de-4fcb-4165-f1dc-665c1391fd18"
      },
      "outputs": [
        {
          "data": {
            "text/plain": [
              "Unnamed: 0               0\n",
              "Id                       0\n",
              "groupId                  0\n",
              "matchId                  0\n",
              "assists                  0\n",
              "boosts                   0\n",
              "damageDealt              0\n",
              "DBNOs                    0\n",
              "headshotKills            0\n",
              "heals                    0\n",
              "killPlace                0\n",
              "killPoints               0\n",
              "kills                    0\n",
              "killStreaks              0\n",
              "longestKill              0\n",
              "maxPlace                 0\n",
              "numGroups                0\n",
              "revives                  0\n",
              "rideDistance             0\n",
              "roadKills                0\n",
              "swimDistance             0\n",
              "teamKills                0\n",
              "vehicleDestroys          0\n",
              "walkDistance             0\n",
              "weaponsAcquired          0\n",
              "winPoints                0\n",
              "winPlacePerc       1867913\n",
              "dtype: int64"
            ]
          },
          "execution_count": 9,
          "metadata": {},
          "output_type": "execute_result"
        }
      ],
      "source": [
        "df.isna().sum()"
      ]
    },
    {
      "cell_type": "markdown",
      "metadata": {
        "id": "2zIkV4DdYO2Z"
      },
      "source": [
        "csv파일에는 결측치가 존재하지 않는걸 확인하였으며 데이터셋 용량이커서 데이터를 불러오는 도중에 데이터가 누락되는 경우로 보임\n"
      ]
    },
    {
      "cell_type": "code",
      "execution_count": 10,
      "metadata": {
        "colab": {
          "base_uri": "https://localhost:8080/",
          "height": 273
        },
        "id": "CNbQwkRqYPlM",
        "outputId": "f258483c-357b-4632-9b01-39bafcb80713"
      },
      "outputs": [
        {
          "data": {
            "text/html": [
              "<div>\n",
              "<style scoped>\n",
              "    .dataframe tbody tr th:only-of-type {\n",
              "        vertical-align: middle;\n",
              "    }\n",
              "\n",
              "    .dataframe tbody tr th {\n",
              "        vertical-align: top;\n",
              "    }\n",
              "\n",
              "    .dataframe thead th {\n",
              "        text-align: right;\n",
              "    }\n",
              "</style>\n",
              "<table border=\"1\" class=\"dataframe\">\n",
              "  <thead>\n",
              "    <tr style=\"text-align: right;\">\n",
              "      <th></th>\n",
              "      <th>Unnamed: 0</th>\n",
              "      <th>Id</th>\n",
              "      <th>groupId</th>\n",
              "      <th>matchId</th>\n",
              "      <th>assists</th>\n",
              "      <th>boosts</th>\n",
              "      <th>damageDealt</th>\n",
              "      <th>DBNOs</th>\n",
              "      <th>headshotKills</th>\n",
              "      <th>heals</th>\n",
              "      <th>...</th>\n",
              "      <th>revives</th>\n",
              "      <th>rideDistance</th>\n",
              "      <th>roadKills</th>\n",
              "      <th>swimDistance</th>\n",
              "      <th>teamKills</th>\n",
              "      <th>vehicleDestroys</th>\n",
              "      <th>walkDistance</th>\n",
              "      <th>weaponsAcquired</th>\n",
              "      <th>winPoints</th>\n",
              "      <th>winPlacePerc</th>\n",
              "    </tr>\n",
              "  </thead>\n",
              "  <tbody>\n",
              "    <tr>\n",
              "      <th>4357336</th>\n",
              "      <td>0</td>\n",
              "      <td>47734</td>\n",
              "      <td>1659463</td>\n",
              "      <td>47734</td>\n",
              "      <td>0</td>\n",
              "      <td>0</td>\n",
              "      <td>100.0</td>\n",
              "      <td>1</td>\n",
              "      <td>0</td>\n",
              "      <td>0</td>\n",
              "      <td>...</td>\n",
              "      <td>0</td>\n",
              "      <td>0.0</td>\n",
              "      <td>0</td>\n",
              "      <td>0.0</td>\n",
              "      <td>1</td>\n",
              "      <td>0</td>\n",
              "      <td>421.50</td>\n",
              "      <td>7</td>\n",
              "      <td>1500</td>\n",
              "      <td>NaN</td>\n",
              "    </tr>\n",
              "    <tr>\n",
              "      <th>4357337</th>\n",
              "      <td>1</td>\n",
              "      <td>47735</td>\n",
              "      <td>1659508</td>\n",
              "      <td>47735</td>\n",
              "      <td>0</td>\n",
              "      <td>1</td>\n",
              "      <td>400.0</td>\n",
              "      <td>2</td>\n",
              "      <td>0</td>\n",
              "      <td>3</td>\n",
              "      <td>...</td>\n",
              "      <td>1</td>\n",
              "      <td>0.0</td>\n",
              "      <td>0</td>\n",
              "      <td>0.0</td>\n",
              "      <td>0</td>\n",
              "      <td>0</td>\n",
              "      <td>655.80</td>\n",
              "      <td>4</td>\n",
              "      <td>1526</td>\n",
              "      <td>NaN</td>\n",
              "    </tr>\n",
              "    <tr>\n",
              "      <th>4357338</th>\n",
              "      <td>2</td>\n",
              "      <td>47736</td>\n",
              "      <td>1659555</td>\n",
              "      <td>47736</td>\n",
              "      <td>0</td>\n",
              "      <td>0</td>\n",
              "      <td>0.0</td>\n",
              "      <td>0</td>\n",
              "      <td>0</td>\n",
              "      <td>0</td>\n",
              "      <td>...</td>\n",
              "      <td>0</td>\n",
              "      <td>0.0</td>\n",
              "      <td>0</td>\n",
              "      <td>0.0</td>\n",
              "      <td>0</td>\n",
              "      <td>0</td>\n",
              "      <td>74.58</td>\n",
              "      <td>1</td>\n",
              "      <td>1475</td>\n",
              "      <td>NaN</td>\n",
              "    </tr>\n",
              "    <tr>\n",
              "      <th>4357339</th>\n",
              "      <td>3</td>\n",
              "      <td>47737</td>\n",
              "      <td>1659621</td>\n",
              "      <td>47737</td>\n",
              "      <td>0</td>\n",
              "      <td>0</td>\n",
              "      <td>68.6</td>\n",
              "      <td>0</td>\n",
              "      <td>0</td>\n",
              "      <td>0</td>\n",
              "      <td>...</td>\n",
              "      <td>0</td>\n",
              "      <td>0.0</td>\n",
              "      <td>0</td>\n",
              "      <td>0.0</td>\n",
              "      <td>0</td>\n",
              "      <td>0</td>\n",
              "      <td>167.20</td>\n",
              "      <td>2</td>\n",
              "      <td>1464</td>\n",
              "      <td>NaN</td>\n",
              "    </tr>\n",
              "    <tr>\n",
              "      <th>4357340</th>\n",
              "      <td>4</td>\n",
              "      <td>47738</td>\n",
              "      <td>1659675</td>\n",
              "      <td>47738</td>\n",
              "      <td>0</td>\n",
              "      <td>1</td>\n",
              "      <td>370.5</td>\n",
              "      <td>3</td>\n",
              "      <td>0</td>\n",
              "      <td>1</td>\n",
              "      <td>...</td>\n",
              "      <td>0</td>\n",
              "      <td>0.0</td>\n",
              "      <td>0</td>\n",
              "      <td>0.0</td>\n",
              "      <td>0</td>\n",
              "      <td>0</td>\n",
              "      <td>146.70</td>\n",
              "      <td>3</td>\n",
              "      <td>1505</td>\n",
              "      <td>NaN</td>\n",
              "    </tr>\n",
              "  </tbody>\n",
              "</table>\n",
              "<p>5 rows × 27 columns</p>\n",
              "</div>"
            ],
            "text/plain": [
              "         Unnamed: 0     Id  groupId  matchId  assists  boosts  damageDealt  \\\n",
              "4357336           0  47734  1659463    47734        0       0        100.0   \n",
              "4357337           1  47735  1659508    47735        0       1        400.0   \n",
              "4357338           2  47736  1659555    47736        0       0          0.0   \n",
              "4357339           3  47737  1659621    47737        0       0         68.6   \n",
              "4357340           4  47738  1659675    47738        0       1        370.5   \n",
              "\n",
              "         DBNOs  headshotKills  heals  ...  revives  rideDistance  roadKills  \\\n",
              "4357336      1              0      0  ...        0           0.0          0   \n",
              "4357337      2              0      3  ...        1           0.0          0   \n",
              "4357338      0              0      0  ...        0           0.0          0   \n",
              "4357339      0              0      0  ...        0           0.0          0   \n",
              "4357340      3              0      1  ...        0           0.0          0   \n",
              "\n",
              "         swimDistance  teamKills  vehicleDestroys  walkDistance  \\\n",
              "4357336           0.0          1                0        421.50   \n",
              "4357337           0.0          0                0        655.80   \n",
              "4357338           0.0          0                0         74.58   \n",
              "4357339           0.0          0                0        167.20   \n",
              "4357340           0.0          0                0        146.70   \n",
              "\n",
              "         weaponsAcquired  winPoints  winPlacePerc  \n",
              "4357336                7       1500           NaN  \n",
              "4357337                4       1526           NaN  \n",
              "4357338                1       1475           NaN  \n",
              "4357339                2       1464           NaN  \n",
              "4357340                3       1505           NaN  \n",
              "\n",
              "[5 rows x 27 columns]"
            ]
          },
          "execution_count": 10,
          "metadata": {},
          "output_type": "execute_result"
        }
      ],
      "source": [
        "per_0 = df[df['winPlacePerc']==0]\n",
        "null_winPlacePerc = df[df['winPlacePerc'].isnull()]\n",
        "null_winPlacePerc.head()\n"
      ]
    },
    {
      "cell_type": "markdown",
      "metadata": {
        "id": "biiBk87wYRB8"
      },
      "source": [
        "### 이동 없이 무기를 획득한 버그 유저가 존재할까?\n"
      ]
    },
    {
      "cell_type": "code",
      "execution_count": 11,
      "metadata": {
        "colab": {
          "base_uri": "https://localhost:8080/"
        },
        "id": "CD8I7iP3YRdE",
        "outputId": "2574b14f-9778-4cca-f477-a6957cb38e23"
      },
      "outputs": [
        {
          "name": "stdout",
          "output_type": "stream",
          "text": [
            "총 거리가 하위 10%이면서 무기 획득량이 상위 1%인 버그 의심 유저 수 =  2514\n"
          ]
        }
      ],
      "source": [
        "import numpy as np\n",
        "# 총 거리 데이터 만들기\n",
        "df['_totalDistance'] = df['rideDistance'] + df['walkDistance'] + df['swimDistance']\n",
        "# 총 거리 하위 10%의 데이터 따오기\n",
        "per_10 = np.percentile(df['_totalDistance'], 10)\n",
        "# 총 거리 하위 10%의 데이터셋 만들기\n",
        "low_10 = df[df['_totalDistance']<=per_10]\n",
        "# 여기서 weaponsAcquired가 상위 1%인 데이터 따오기\n",
        "weap_1 = np.percentile(df['weaponsAcquired'], 99)\n",
        "# 여기서 weaponsAcquired가 상위 1%인 버그 의심 유저 추출\n",
        "low_10_weap_1 = low_10[low_10['weaponsAcquired'] >= weap_1]\n",
        "print('총 거리가 하위 10%이면서 무기 획득량이 상위 1%인 버그 의심 유저 수 = ', len(low_10_weap_1))"
      ]
    },
    {
      "cell_type": "markdown",
      "metadata": {
        "id": "IsBC5AywYR5b"
      },
      "source": [
        "### 버그 유저 탐색"
      ]
    },
    {
      "cell_type": "markdown",
      "metadata": {
        "id": "KRVAdeIHYTx1"
      },
      "source": [
        "가설\n",
        "1. 이동수단으로 이동하지 않았는데 적을 이동수단으로 제압한 경우"
      ]
    },
    {
      "cell_type": "code",
      "execution_count": 12,
      "metadata": {
        "colab": {
          "base_uri": "https://localhost:8080/"
        },
        "id": "W8U2KFQ3YU_3",
        "outputId": "a679ac7e-6096-4940-ca41-71633826f683"
      },
      "outputs": [
        {
          "name": "stdout",
          "output_type": "stream",
          "text": [
            "이동 수단 버그 의심 유저 수 = 529\n"
          ]
        }
      ],
      "source": [
        "# 이동수단으로 사람을 제압한적이있는 유저\n",
        "road_df = df[df['roadKills'] != 0 ]\n",
        "road_bug = road_df[road_df['rideDistance'] == 0]\n",
        "print('이동 수단 버그 의심 유저 수 =', len(road_bug))"
      ]
    },
    {
      "cell_type": "markdown",
      "metadata": {
        "id": "o4v_Gw6iYWhm"
      },
      "source": [
        "가설\n",
        "2. 헤드샷 고정 버그로 인한 기절횟수=헤드샷킬수"
      ]
    },
    {
      "cell_type": "code",
      "execution_count": 13,
      "metadata": {
        "colab": {
          "base_uri": "https://localhost:8080/"
        },
        "id": "Xd0F9xC_YWwM",
        "outputId": "531f183b-61b3-40d0-b24c-6c1a8c2aa812"
      },
      "outputs": [
        {
          "data": {
            "text/plain": [
              "688949"
            ]
          },
          "execution_count": 13,
          "metadata": {},
          "output_type": "execute_result"
        }
      ],
      "source": [
        "# 헤드샷 = 상대 기절횟수면서 기절시킨 적이 있는 유저 제외한 필터\n",
        "head_bug = df[(df['kills']==df['headshotKills']) & (df['DBNOs']!=0)]\n",
        "len(head_bug)"
      ]
    },
    {
      "cell_type": "markdown",
      "metadata": {
        "id": "U74IceayYYj5"
      },
      "source": [
        "1킬한 인원도 많아 기절횟수 상위 20%센트로 줄여서 확인"
      ]
    },
    {
      "cell_type": "code",
      "execution_count": 14,
      "metadata": {
        "colab": {
          "base_uri": "https://localhost:8080/"
        },
        "id": "BGRNu-w5YVjs",
        "outputId": "fb51a2ae-d5c2-4206-cdc1-7d9dcd7d07c3"
      },
      "outputs": [
        {
          "name": "stdout",
          "output_type": "stream",
          "text": [
            "상위 2% 죽인  횟수 = 6\n",
            "6킬 이상하고 죽인 횟수가 헤드샷 횟수랑 같은 헤드샷 버그 의심 유저 수 = 138\n"
          ]
        }
      ],
      "source": [
        "# 죽인  횟수 상위 2%의 데이터 따오기\n",
        "per_2 = np.percentile(df['kills'], 98)\n",
        "print('상위 2% 죽인  횟수 =', int(per_2))\n",
        "# 죽인  횟수 상위 2%의 데이터셋 만들기\n",
        "high_2 = head_bug[head_bug['kills']>=per_2]\n",
        "print(f'{int(per_2)}킬 이상하고 죽인 횟수가 헤드샷 횟수랑 같은 헤드샷 버그 의심 유저 수 =',len(high_2))"
      ]
    },
    {
      "cell_type": "markdown",
      "metadata": {
        "id": "JAg3DgnOYetN"
      },
      "source": [
        "가설\n",
        "3. 적이 보이지 않는데 죽이는 버그가 존재하지 않을까?\n",
        "    - 적을 죽은시점에서 나와 죽은적의 거리가 이동수단의 거리의 평균보다 긴경우"
      ]
    },
    {
      "cell_type": "code",
      "execution_count": 15,
      "metadata": {
        "colab": {
          "base_uri": "https://localhost:8080/"
        },
        "id": "x_0HBRknYfSK",
        "outputId": "74bd1212-5c35-4a31-a5a9-06927cc2c2ea"
      },
      "outputs": [
        {
          "name": "stdout",
          "output_type": "stream",
          "text": [
            "평균 이동수단 거리인 424 보다 먼 거리에서 적을 죽인 유저의 수 = 3324\n"
          ]
        }
      ],
      "source": [
        "# 평균 이동 수단 거리 구하기\n",
        "mean_ride = df['rideDistance'].mean()\n",
        "# 평균 이동수단 거리보다 먼 거리에서 적을 죽인 경우 필터\n",
        "long_bug = df[df['longestKill']>= mean_ride]\n",
        "print(f'평균 이동수단 거리인 {int(mean_ride)} 보다 먼 거리에서 적을 죽인 유저의 수 = {len(long_bug)}')"
      ]
    }
  ],
  "metadata": {
    "colab": {
      "gpuType": "T4",
      "provenance": []
    },
    "kernelspec": {
      "display_name": "Python 3",
      "name": "python3"
    },
    "language_info": {
      "codemirror_mode": {
        "name": "ipython",
        "version": 3
      },
      "file_extension": ".py",
      "mimetype": "text/x-python",
      "name": "python",
      "nbconvert_exporter": "python",
      "pygments_lexer": "ipython3",
      "version": "3.9.13"
    }
  },
  "nbformat": 4,
  "nbformat_minor": 0
}
