{
  "cells": [
    {
      "cell_type": "code",
      "execution_count": null,
      "metadata": {
        "colab": {
          "base_uri": "https://localhost:8080/"
        },
        "id": "g35al6DDYC3X",
        "outputId": "f91ebbf3-cd7c-4cc0-a350-9507b9c816bb"
      },
      "outputs": [
        {
          "name": "stdout",
          "output_type": "stream",
          "text": [
            "Mounted at /content/drive\n"
          ]
        }
      ],
      "source": [
        "# ▶ Warnings 제거\n",
        "import warnings\n",
        "warnings.filterwarnings('ignore')\n",
        "\n",
        "# ▶ Google drive mount or 폴더 클릭 후 구글드라이브 연결\n",
        "from google.colab import drive\n",
        "drive.mount('/content/drive')\n"
      ]
    },
    {
      "cell_type": "code",
      "execution_count": null,
      "metadata": {
        "colab": {
          "base_uri": "https://localhost:8080/",
          "height": 35
        },
        "id": "VJpbUMefYC1I",
        "outputId": "91956893-dab4-40a6-ab8e-75d3cb7db7c4"
      },
      "outputs": [
        {
          "data": {
            "application/vnd.google.colaboratory.intrinsic+json": {
              "type": "string"
            },
            "text/plain": [
              "'/content/drive/MyDrive/exa_data'"
            ]
          },
          "execution_count": 2,
          "metadata": {},
          "output_type": "execute_result"
        }
      ],
      "source": [
        "# ▶ 경로 설정 (※ Colab을 활성화시켰다면 보통 Colab Notebooks 폴더가 자동 생성)\n",
        "import os\n",
        "os.chdir(\"/content/drive/MyDrive/exa_data\")\n",
        "os.getcwd()"
      ]
    },
    {
      "cell_type": "code",
      "execution_count": null,
      "metadata": {
        "colab": {
          "base_uri": "https://localhost:8080/"
        },
        "id": "WNPTSTfVYCjy",
        "outputId": "91d2638b-2aa3-426e-b45d-541c038aa8f8"
      },
      "outputs": [
        {
          "name": "stdout",
          "output_type": "stream",
          "text": [
            "Reading package lists... Done\n",
            "Building dependency tree... Done\n",
            "Reading state information... Done\n",
            "The following NEW packages will be installed:\n",
            "  fonts-nanum\n",
            "0 upgraded, 1 newly installed, 0 to remove and 35 not upgraded.\n",
            "Need to get 10.3 MB of archives.\n",
            "After this operation, 34.1 MB of additional disk space will be used.\n",
            "Get:1 http://archive.ubuntu.com/ubuntu jammy/universe amd64 fonts-nanum all 20200506-1 [10.3 MB]\n",
            "Fetched 10.3 MB in 2s (6,037 kB/s)\n",
            "debconf: unable to initialize frontend: Dialog\n",
            "debconf: (No usable dialog-like program is installed, so the dialog based frontend cannot be used. at /usr/share/perl5/Debconf/FrontEnd/Dialog.pm line 78, <> line 1.)\n",
            "debconf: falling back to frontend: Readline\n",
            "debconf: unable to initialize frontend: Readline\n",
            "debconf: (This frontend requires a controlling tty.)\n",
            "debconf: falling back to frontend: Teletype\n",
            "dpkg-preconfigure: unable to re-open stdin: \n",
            "Selecting previously unselected package fonts-nanum.\n",
            "(Reading database ... 121749 files and directories currently installed.)\n",
            "Preparing to unpack .../fonts-nanum_20200506-1_all.deb ...\n",
            "Unpacking fonts-nanum (20200506-1) ...\n",
            "Setting up fonts-nanum (20200506-1) ...\n",
            "Processing triggers for fontconfig (2.13.1-4.2ubuntu5) ...\n",
            "/usr/share/fonts: caching, new cache contents: 0 fonts, 1 dirs\n",
            "/usr/share/fonts/truetype: caching, new cache contents: 0 fonts, 3 dirs\n",
            "/usr/share/fonts/truetype/humor-sans: caching, new cache contents: 1 fonts, 0 dirs\n",
            "/usr/share/fonts/truetype/liberation: caching, new cache contents: 16 fonts, 0 dirs\n",
            "/usr/share/fonts/truetype/nanum: caching, new cache contents: 12 fonts, 0 dirs\n",
            "/usr/local/share/fonts: caching, new cache contents: 0 fonts, 0 dirs\n",
            "/root/.local/share/fonts: skipping, no such directory\n",
            "/root/.fonts: skipping, no such directory\n",
            "/usr/share/fonts/truetype: skipping, looped directory detected\n",
            "/usr/share/fonts/truetype/humor-sans: skipping, looped directory detected\n",
            "/usr/share/fonts/truetype/liberation: skipping, looped directory detected\n",
            "/usr/share/fonts/truetype/nanum: skipping, looped directory detected\n",
            "/var/cache/fontconfig: cleaning cache directory\n",
            "/root/.cache/fontconfig: not cleaning non-existent cache directory\n",
            "/root/.fontconfig: not cleaning non-existent cache directory\n",
            "fc-cache: succeeded\n"
          ]
        }
      ],
      "source": [
        "# 한글 폰트 출력\n",
        "!sudo apt-get install -y fonts-nanum\n",
        "!sudo fc-cache -fv\n",
        "!rm ~/.cache/matplotlib -rf\n",
        "import matplotlib.pyplot as plt\n",
        "plt.rc('font', family='NanumGothic')"
      ]
    },
    {
      "cell_type": "markdown",
      "metadata": {
        "id": "z5Dcu4n5YByg"
      },
      "source": [
        "## **🔒 [게임] 문제**\n",
        "---\n",
        "* **제시된 게임 플레이 데이터(Non Time-Series)를 대상으로 아래 주어진 문제를 분석 및 시각화 하시오**\n",
        "\n",
        "* 데이터 명세 ⬇\n",
        "\n",
        "|Column|Description|\n",
        "|:---|:---|\n",
        "|ID |ID|\n",
        "|groupId |매치 내에서 그룹을 식별하는 ID|\n",
        "|matchId |매치를 식별하는 ID|\n",
        "|assists |이 플레이어가 공격하여 팀원이 죽인 적 플레이어의 수|\n",
        "|boosts |사용한 부스트 아이템의 수|\n",
        "|damageDealt |총 가한 피해량|\n",
        "|DBNOs |적 플레이어를 다운시킨 횟수|\n",
        "|headshotKills |헤드샷킬수|\n",
        "|heals |heal 아이템 사용횟수|\n",
        "|killPlace |매치 내 순위(적 플레이어를 죽인 횟수에 따른)|\n",
        "|killPoints |적제압포인트|\n",
        "|kills |적 제압횟수|\n",
        "|killStreaks |짧은 시간 내에 적 플레이어를 죽인 최대 횟수|\n",
        "|longestKill |적을 죽은시점에서 나와 죽은적의 거리(다운 시킨 후 차량으로 이동한 경우 큰 데이터가 발생할 수 있음|\n",
        "|maxPlace |최악의 순위|\n",
        "|numGroups |그룹넘버|\n",
        "|revives |팀원을 부활시킨 횟수|\n",
        "|rideDistance |이동수단 타고 이동거리|\n",
        "|roadKills |차량 내에서 이루어진 적 제압횟수|\n",
        "|swimDistance|수영한거리|\n",
        "|teamKills |같은 팀원을 제압한 횟수|\n",
        "|vehicleDestroys|자동차 파괴횟수|\n",
        "|walkDistance|도보이동거리|\n",
        "|weaponsAcquired|무기 획득횟수|\n",
        "|winPoints|승점|\n",
        "|winPlacePerc|승률|\n"
      ]
    },
    {
      "cell_type": "markdown",
      "metadata": {
        "id": "6FDHsqI0YH_a"
      },
      "source": [
        "데이터 명세를 보다보니 배틀그라운드라는 게임의 데이터와 비슷해보임"
      ]
    },
    {
      "cell_type": "code",
      "execution_count": null,
      "metadata": {
        "colab": {
          "base_uri": "https://localhost:8080/",
          "height": 273
        },
        "id": "j7zksBWDYGe_",
        "outputId": "59e4d09e-0111-46ef-e4e3-a8edaec2975e"
      },
      "outputs": [
        {
          "data": {
            "application/vnd.google.colaboratory.intrinsic+json": {
              "type": "dataframe",
              "variable_name": "ga_df"
            },
            "text/html": [
              "\n",
              "  <div id=\"df-2c0fd591-0f59-41e0-bed1-58aeff01e69e\" class=\"colab-df-container\">\n",
              "    <div>\n",
              "<style scoped>\n",
              "    .dataframe tbody tr th:only-of-type {\n",
              "        vertical-align: middle;\n",
              "    }\n",
              "\n",
              "    .dataframe tbody tr th {\n",
              "        vertical-align: top;\n",
              "    }\n",
              "\n",
              "    .dataframe thead th {\n",
              "        text-align: right;\n",
              "    }\n",
              "</style>\n",
              "<table border=\"1\" class=\"dataframe\">\n",
              "  <thead>\n",
              "    <tr style=\"text-align: right;\">\n",
              "      <th></th>\n",
              "      <th>Unnamed: 0</th>\n",
              "      <th>Id</th>\n",
              "      <th>groupId</th>\n",
              "      <th>matchId</th>\n",
              "      <th>assists</th>\n",
              "      <th>boosts</th>\n",
              "      <th>damageDealt</th>\n",
              "      <th>DBNOs</th>\n",
              "      <th>headshotKills</th>\n",
              "      <th>heals</th>\n",
              "      <th>...</th>\n",
              "      <th>revives</th>\n",
              "      <th>rideDistance</th>\n",
              "      <th>roadKills</th>\n",
              "      <th>swimDistance</th>\n",
              "      <th>teamKills</th>\n",
              "      <th>vehicleDestroys</th>\n",
              "      <th>walkDistance</th>\n",
              "      <th>weaponsAcquired</th>\n",
              "      <th>winPoints</th>\n",
              "      <th>winPlacePerc</th>\n",
              "    </tr>\n",
              "  </thead>\n",
              "  <tbody>\n",
              "    <tr>\n",
              "      <th>0</th>\n",
              "      <td>0</td>\n",
              "      <td>0</td>\n",
              "      <td>24</td>\n",
              "      <td>0</td>\n",
              "      <td>0</td>\n",
              "      <td>5</td>\n",
              "      <td>247.30</td>\n",
              "      <td>2</td>\n",
              "      <td>0</td>\n",
              "      <td>4</td>\n",
              "      <td>...</td>\n",
              "      <td>1</td>\n",
              "      <td>591.3</td>\n",
              "      <td>0</td>\n",
              "      <td>0.0</td>\n",
              "      <td>0</td>\n",
              "      <td>0</td>\n",
              "      <td>782.40</td>\n",
              "      <td>4</td>\n",
              "      <td>1458</td>\n",
              "      <td>0.8571</td>\n",
              "    </tr>\n",
              "    <tr>\n",
              "      <th>1</th>\n",
              "      <td>1</td>\n",
              "      <td>1</td>\n",
              "      <td>440875</td>\n",
              "      <td>1</td>\n",
              "      <td>1</td>\n",
              "      <td>0</td>\n",
              "      <td>37.65</td>\n",
              "      <td>1</td>\n",
              "      <td>1</td>\n",
              "      <td>0</td>\n",
              "      <td>...</td>\n",
              "      <td>0</td>\n",
              "      <td>0.0</td>\n",
              "      <td>0</td>\n",
              "      <td>0.0</td>\n",
              "      <td>0</td>\n",
              "      <td>0</td>\n",
              "      <td>119.60</td>\n",
              "      <td>3</td>\n",
              "      <td>1511</td>\n",
              "      <td>0.0400</td>\n",
              "    </tr>\n",
              "    <tr>\n",
              "      <th>2</th>\n",
              "      <td>2</td>\n",
              "      <td>2</td>\n",
              "      <td>878242</td>\n",
              "      <td>2</td>\n",
              "      <td>0</td>\n",
              "      <td>1</td>\n",
              "      <td>93.73</td>\n",
              "      <td>1</td>\n",
              "      <td>0</td>\n",
              "      <td>2</td>\n",
              "      <td>...</td>\n",
              "      <td>1</td>\n",
              "      <td>0.0</td>\n",
              "      <td>0</td>\n",
              "      <td>0.0</td>\n",
              "      <td>0</td>\n",
              "      <td>0</td>\n",
              "      <td>3248.00</td>\n",
              "      <td>5</td>\n",
              "      <td>1583</td>\n",
              "      <td>0.7407</td>\n",
              "    </tr>\n",
              "    <tr>\n",
              "      <th>3</th>\n",
              "      <td>3</td>\n",
              "      <td>3</td>\n",
              "      <td>1319841</td>\n",
              "      <td>3</td>\n",
              "      <td>0</td>\n",
              "      <td>0</td>\n",
              "      <td>95.88</td>\n",
              "      <td>0</td>\n",
              "      <td>0</td>\n",
              "      <td>0</td>\n",
              "      <td>...</td>\n",
              "      <td>0</td>\n",
              "      <td>0.0</td>\n",
              "      <td>0</td>\n",
              "      <td>0.0</td>\n",
              "      <td>0</td>\n",
              "      <td>0</td>\n",
              "      <td>21.49</td>\n",
              "      <td>1</td>\n",
              "      <td>1489</td>\n",
              "      <td>0.1146</td>\n",
              "    </tr>\n",
              "    <tr>\n",
              "      <th>4</th>\n",
              "      <td>4</td>\n",
              "      <td>4</td>\n",
              "      <td>1757883</td>\n",
              "      <td>4</td>\n",
              "      <td>0</td>\n",
              "      <td>1</td>\n",
              "      <td>0.00</td>\n",
              "      <td>0</td>\n",
              "      <td>0</td>\n",
              "      <td>1</td>\n",
              "      <td>...</td>\n",
              "      <td>0</td>\n",
              "      <td>0.0</td>\n",
              "      <td>0</td>\n",
              "      <td>0.0</td>\n",
              "      <td>0</td>\n",
              "      <td>0</td>\n",
              "      <td>640.80</td>\n",
              "      <td>4</td>\n",
              "      <td>1475</td>\n",
              "      <td>0.5217</td>\n",
              "    </tr>\n",
              "  </tbody>\n",
              "</table>\n",
              "<p>5 rows × 27 columns</p>\n",
              "</div>\n",
              "    <div class=\"colab-df-buttons\">\n",
              "\n",
              "  <div class=\"colab-df-container\">\n",
              "    <button class=\"colab-df-convert\" onclick=\"convertToInteractive('df-2c0fd591-0f59-41e0-bed1-58aeff01e69e')\"\n",
              "            title=\"Convert this dataframe to an interactive table.\"\n",
              "            style=\"display:none;\">\n",
              "\n",
              "  <svg xmlns=\"http://www.w3.org/2000/svg\" height=\"24px\" viewBox=\"0 -960 960 960\">\n",
              "    <path d=\"M120-120v-720h720v720H120Zm60-500h600v-160H180v160Zm220 220h160v-160H400v160Zm0 220h160v-160H400v160ZM180-400h160v-160H180v160Zm440 0h160v-160H620v160ZM180-180h160v-160H180v160Zm440 0h160v-160H620v160Z\"/>\n",
              "  </svg>\n",
              "    </button>\n",
              "\n",
              "  <style>\n",
              "    .colab-df-container {\n",
              "      display:flex;\n",
              "      gap: 12px;\n",
              "    }\n",
              "\n",
              "    .colab-df-convert {\n",
              "      background-color: #E8F0FE;\n",
              "      border: none;\n",
              "      border-radius: 50%;\n",
              "      cursor: pointer;\n",
              "      display: none;\n",
              "      fill: #1967D2;\n",
              "      height: 32px;\n",
              "      padding: 0 0 0 0;\n",
              "      width: 32px;\n",
              "    }\n",
              "\n",
              "    .colab-df-convert:hover {\n",
              "      background-color: #E2EBFA;\n",
              "      box-shadow: 0px 1px 2px rgba(60, 64, 67, 0.3), 0px 1px 3px 1px rgba(60, 64, 67, 0.15);\n",
              "      fill: #174EA6;\n",
              "    }\n",
              "\n",
              "    .colab-df-buttons div {\n",
              "      margin-bottom: 4px;\n",
              "    }\n",
              "\n",
              "    [theme=dark] .colab-df-convert {\n",
              "      background-color: #3B4455;\n",
              "      fill: #D2E3FC;\n",
              "    }\n",
              "\n",
              "    [theme=dark] .colab-df-convert:hover {\n",
              "      background-color: #434B5C;\n",
              "      box-shadow: 0px 1px 3px 1px rgba(0, 0, 0, 0.15);\n",
              "      filter: drop-shadow(0px 1px 2px rgba(0, 0, 0, 0.3));\n",
              "      fill: #FFFFFF;\n",
              "    }\n",
              "  </style>\n",
              "\n",
              "    <script>\n",
              "      const buttonEl =\n",
              "        document.querySelector('#df-2c0fd591-0f59-41e0-bed1-58aeff01e69e button.colab-df-convert');\n",
              "      buttonEl.style.display =\n",
              "        google.colab.kernel.accessAllowed ? 'block' : 'none';\n",
              "\n",
              "      async function convertToInteractive(key) {\n",
              "        const element = document.querySelector('#df-2c0fd591-0f59-41e0-bed1-58aeff01e69e');\n",
              "        const dataTable =\n",
              "          await google.colab.kernel.invokeFunction('convertToInteractive',\n",
              "                                                    [key], {});\n",
              "        if (!dataTable) return;\n",
              "\n",
              "        const docLinkHtml = 'Like what you see? Visit the ' +\n",
              "          '<a target=\"_blank\" href=https://colab.research.google.com/notebooks/data_table.ipynb>data table notebook</a>'\n",
              "          + ' to learn more about interactive tables.';\n",
              "        element.innerHTML = '';\n",
              "        dataTable['output_type'] = 'display_data';\n",
              "        await google.colab.output.renderOutput(dataTable, element);\n",
              "        const docLink = document.createElement('div');\n",
              "        docLink.innerHTML = docLinkHtml;\n",
              "        element.appendChild(docLink);\n",
              "      }\n",
              "    </script>\n",
              "  </div>\n",
              "\n",
              "\n",
              "<div id=\"df-1e142cea-b8d9-42a9-baf8-84c7d931ea33\">\n",
              "  <button class=\"colab-df-quickchart\" onclick=\"quickchart('df-1e142cea-b8d9-42a9-baf8-84c7d931ea33')\"\n",
              "            title=\"Suggest charts\"\n",
              "            style=\"display:none;\">\n",
              "\n",
              "<svg xmlns=\"http://www.w3.org/2000/svg\" height=\"24px\"viewBox=\"0 0 24 24\"\n",
              "     width=\"24px\">\n",
              "    <g>\n",
              "        <path d=\"M19 3H5c-1.1 0-2 .9-2 2v14c0 1.1.9 2 2 2h14c1.1 0 2-.9 2-2V5c0-1.1-.9-2-2-2zM9 17H7v-7h2v7zm4 0h-2V7h2v10zm4 0h-2v-4h2v4z\"/>\n",
              "    </g>\n",
              "</svg>\n",
              "  </button>\n",
              "\n",
              "<style>\n",
              "  .colab-df-quickchart {\n",
              "      --bg-color: #E8F0FE;\n",
              "      --fill-color: #1967D2;\n",
              "      --hover-bg-color: #E2EBFA;\n",
              "      --hover-fill-color: #174EA6;\n",
              "      --disabled-fill-color: #AAA;\n",
              "      --disabled-bg-color: #DDD;\n",
              "  }\n",
              "\n",
              "  [theme=dark] .colab-df-quickchart {\n",
              "      --bg-color: #3B4455;\n",
              "      --fill-color: #D2E3FC;\n",
              "      --hover-bg-color: #434B5C;\n",
              "      --hover-fill-color: #FFFFFF;\n",
              "      --disabled-bg-color: #3B4455;\n",
              "      --disabled-fill-color: #666;\n",
              "  }\n",
              "\n",
              "  .colab-df-quickchart {\n",
              "    background-color: var(--bg-color);\n",
              "    border: none;\n",
              "    border-radius: 50%;\n",
              "    cursor: pointer;\n",
              "    display: none;\n",
              "    fill: var(--fill-color);\n",
              "    height: 32px;\n",
              "    padding: 0;\n",
              "    width: 32px;\n",
              "  }\n",
              "\n",
              "  .colab-df-quickchart:hover {\n",
              "    background-color: var(--hover-bg-color);\n",
              "    box-shadow: 0 1px 2px rgba(60, 64, 67, 0.3), 0 1px 3px 1px rgba(60, 64, 67, 0.15);\n",
              "    fill: var(--button-hover-fill-color);\n",
              "  }\n",
              "\n",
              "  .colab-df-quickchart-complete:disabled,\n",
              "  .colab-df-quickchart-complete:disabled:hover {\n",
              "    background-color: var(--disabled-bg-color);\n",
              "    fill: var(--disabled-fill-color);\n",
              "    box-shadow: none;\n",
              "  }\n",
              "\n",
              "  .colab-df-spinner {\n",
              "    border: 2px solid var(--fill-color);\n",
              "    border-color: transparent;\n",
              "    border-bottom-color: var(--fill-color);\n",
              "    animation:\n",
              "      spin 1s steps(1) infinite;\n",
              "  }\n",
              "\n",
              "  @keyframes spin {\n",
              "    0% {\n",
              "      border-color: transparent;\n",
              "      border-bottom-color: var(--fill-color);\n",
              "      border-left-color: var(--fill-color);\n",
              "    }\n",
              "    20% {\n",
              "      border-color: transparent;\n",
              "      border-left-color: var(--fill-color);\n",
              "      border-top-color: var(--fill-color);\n",
              "    }\n",
              "    30% {\n",
              "      border-color: transparent;\n",
              "      border-left-color: var(--fill-color);\n",
              "      border-top-color: var(--fill-color);\n",
              "      border-right-color: var(--fill-color);\n",
              "    }\n",
              "    40% {\n",
              "      border-color: transparent;\n",
              "      border-right-color: var(--fill-color);\n",
              "      border-top-color: var(--fill-color);\n",
              "    }\n",
              "    60% {\n",
              "      border-color: transparent;\n",
              "      border-right-color: var(--fill-color);\n",
              "    }\n",
              "    80% {\n",
              "      border-color: transparent;\n",
              "      border-right-color: var(--fill-color);\n",
              "      border-bottom-color: var(--fill-color);\n",
              "    }\n",
              "    90% {\n",
              "      border-color: transparent;\n",
              "      border-bottom-color: var(--fill-color);\n",
              "    }\n",
              "  }\n",
              "</style>\n",
              "\n",
              "  <script>\n",
              "    async function quickchart(key) {\n",
              "      const quickchartButtonEl =\n",
              "        document.querySelector('#' + key + ' button');\n",
              "      quickchartButtonEl.disabled = true;  // To prevent multiple clicks.\n",
              "      quickchartButtonEl.classList.add('colab-df-spinner');\n",
              "      try {\n",
              "        const charts = await google.colab.kernel.invokeFunction(\n",
              "            'suggestCharts', [key], {});\n",
              "      } catch (error) {\n",
              "        console.error('Error during call to suggestCharts:', error);\n",
              "      }\n",
              "      quickchartButtonEl.classList.remove('colab-df-spinner');\n",
              "      quickchartButtonEl.classList.add('colab-df-quickchart-complete');\n",
              "    }\n",
              "    (() => {\n",
              "      let quickchartButtonEl =\n",
              "        document.querySelector('#df-1e142cea-b8d9-42a9-baf8-84c7d931ea33 button');\n",
              "      quickchartButtonEl.style.display =\n",
              "        google.colab.kernel.accessAllowed ? 'block' : 'none';\n",
              "    })();\n",
              "  </script>\n",
              "</div>\n",
              "\n",
              "    </div>\n",
              "  </div>\n"
            ],
            "text/plain": [
              "   Unnamed: 0  Id  groupId  matchId  assists  boosts  damageDealt  DBNOs  \\\n",
              "0           0   0       24        0        0       5       247.30      2   \n",
              "1           1   1   440875        1        1       0        37.65      1   \n",
              "2           2   2   878242        2        0       1        93.73      1   \n",
              "3           3   3  1319841        3        0       0        95.88      0   \n",
              "4           4   4  1757883        4        0       1         0.00      0   \n",
              "\n",
              "   headshotKills  heals  ...  revives  rideDistance  roadKills  swimDistance  \\\n",
              "0              0      4  ...        1         591.3          0           0.0   \n",
              "1              1      0  ...        0           0.0          0           0.0   \n",
              "2              0      2  ...        1           0.0          0           0.0   \n",
              "3              0      0  ...        0           0.0          0           0.0   \n",
              "4              0      1  ...        0           0.0          0           0.0   \n",
              "\n",
              "   teamKills  vehicleDestroys  walkDistance  weaponsAcquired  winPoints  \\\n",
              "0          0                0        782.40                4       1458   \n",
              "1          0                0        119.60                3       1511   \n",
              "2          0                0       3248.00                5       1583   \n",
              "3          0                0         21.49                1       1489   \n",
              "4          0                0        640.80                4       1475   \n",
              "\n",
              "   winPlacePerc  \n",
              "0        0.8571  \n",
              "1        0.0400  \n",
              "2        0.7407  \n",
              "3        0.1146  \n",
              "4        0.5217  \n",
              "\n",
              "[5 rows x 27 columns]"
            ]
          },
          "execution_count": 4,
          "metadata": {},
          "output_type": "execute_result"
        }
      ],
      "source": [
        "import pandas as pd\n",
        "ga_df = pd.read_csv('example_3.csv')\n",
        "ga_df.head()"
      ]
    },
    {
      "cell_type": "code",
      "execution_count": null,
      "metadata": {
        "colab": {
          "base_uri": "https://localhost:8080/"
        },
        "id": "zHhPTvbYX-1M",
        "outputId": "8fff62e6-03cf-4f61-9ce6-12d00ab46e3c"
      },
      "outputs": [
        {
          "data": {
            "text/plain": [
              "100"
            ]
          },
          "execution_count": 5,
          "metadata": {},
          "output_type": "execute_result"
        }
      ],
      "source": [
        "ga_df['numGroups'].max()"
      ]
    },
    {
      "cell_type": "markdown",
      "metadata": {
        "id": "igYOOw7FYKF8"
      },
      "source": [
        "경기는 그룹끼리의 대결도 존재하고 혼자서 대결하는 게임도 존재\n",
        "\n",
        "최대 인원은 100명"
      ]
    },
    {
      "cell_type": "markdown",
      "metadata": {
        "id": "0dOC-oakYLUn"
      },
      "source": [
        "### Question 01\n",
        "\n",
        "```\n",
        "Data Read하고 상위 전처리 조건을 적용한 DataFrame을 만드시오.\n",
        "\n",
        "  (1) Data shape(형태) 출력 → 전체 데이터의 Row와 Column개수 출력\n",
        "\n",
        "  (2) Data type 확인 → 각 Column별 Data Type 출력\n",
        "\n",
        "  (3) Null값 확인 (※ 빈 값의 Data) → 각 Column별 Null Value의 개수 출력\n",
        "```"
      ]
    },
    {
      "cell_type": "code",
      "execution_count": null,
      "metadata": {
        "colab": {
          "base_uri": "https://localhost:8080/"
        },
        "id": "TMENouxRYKfw",
        "outputId": "4533849e-f8a1-4184-fe23-430be9b57be0"
      },
      "outputs": [
        {
          "data": {
            "text/plain": [
              "(6225249, 27)"
            ]
          },
          "execution_count": 6,
          "metadata": {},
          "output_type": "execute_result"
        }
      ],
      "source": [
        "ga_df.shape"
      ]
    },
    {
      "cell_type": "code",
      "execution_count": null,
      "metadata": {
        "colab": {
          "base_uri": "https://localhost:8080/"
        },
        "id": "SlPkbR_3YMdo",
        "outputId": "7aecd31c-652f-4cbd-d37f-bdcf41de8f63"
      },
      "outputs": [
        {
          "data": {
            "text/plain": [
              "Unnamed: 0           int64\n",
              "Id                   int64\n",
              "groupId              int64\n",
              "matchId              int64\n",
              "assists              int64\n",
              "boosts               int64\n",
              "damageDealt        float64\n",
              "DBNOs                int64\n",
              "headshotKills        int64\n",
              "heals                int64\n",
              "killPlace            int64\n",
              "killPoints           int64\n",
              "kills                int64\n",
              "killStreaks          int64\n",
              "longestKill        float64\n",
              "maxPlace             int64\n",
              "numGroups            int64\n",
              "revives              int64\n",
              "rideDistance       float64\n",
              "roadKills            int64\n",
              "swimDistance       float64\n",
              "teamKills            int64\n",
              "vehicleDestroys      int64\n",
              "walkDistance       float64\n",
              "weaponsAcquired      int64\n",
              "winPoints            int64\n",
              "winPlacePerc       float64\n",
              "dtype: object"
            ]
          },
          "execution_count": 7,
          "metadata": {},
          "output_type": "execute_result"
        }
      ],
      "source": [
        "ga_df.dtypes"
      ]
    },
    {
      "cell_type": "code",
      "execution_count": null,
      "metadata": {
        "colab": {
          "base_uri": "https://localhost:8080/"
        },
        "id": "1BRtJOQ_YM0u",
        "outputId": "5cb360de-4fcb-4165-f1dc-665c1391fd18"
      },
      "outputs": [
        {
          "data": {
            "text/plain": [
              "Unnamed: 0               0\n",
              "Id                       0\n",
              "groupId                  0\n",
              "matchId                  0\n",
              "assists                  0\n",
              "boosts                   0\n",
              "damageDealt              0\n",
              "DBNOs                    0\n",
              "headshotKills            0\n",
              "heals                    0\n",
              "killPlace                0\n",
              "killPoints               0\n",
              "kills                    0\n",
              "killStreaks              0\n",
              "longestKill              0\n",
              "maxPlace                 0\n",
              "numGroups                0\n",
              "revives                  0\n",
              "rideDistance             0\n",
              "roadKills                0\n",
              "swimDistance             0\n",
              "teamKills                0\n",
              "vehicleDestroys          0\n",
              "walkDistance             0\n",
              "weaponsAcquired          0\n",
              "winPoints                0\n",
              "winPlacePerc       1867913\n",
              "dtype: int64"
            ]
          },
          "execution_count": 8,
          "metadata": {},
          "output_type": "execute_result"
        }
      ],
      "source": [
        "ga_df.isna().sum()"
      ]
    },
    {
      "cell_type": "markdown",
      "metadata": {
        "id": "2zIkV4DdYO2Z"
      },
      "source": [
        "csv파일에는 결측치가 존재하지 않는걸 확인하였으며 데이터셋 용량이커서 데이터를 불러오는 도중에 데이터가 누락되는 경우로 보임\n"
      ]
    },
    {
      "cell_type": "code",
      "execution_count": null,
      "metadata": {
        "colab": {
          "base_uri": "https://localhost:8080/",
          "height": 273
        },
        "id": "CNbQwkRqYPlM",
        "outputId": "f258483c-357b-4632-9b01-39bafcb80713"
      },
      "outputs": [
        {
          "data": {
            "application/vnd.google.colaboratory.intrinsic+json": {
              "type": "dataframe",
              "variable_name": "null_winPlacePerc"
            },
            "text/html": [
              "\n",
              "  <div id=\"df-64216a9b-b0bc-41f5-a7d2-72e2245693cc\" class=\"colab-df-container\">\n",
              "    <div>\n",
              "<style scoped>\n",
              "    .dataframe tbody tr th:only-of-type {\n",
              "        vertical-align: middle;\n",
              "    }\n",
              "\n",
              "    .dataframe tbody tr th {\n",
              "        vertical-align: top;\n",
              "    }\n",
              "\n",
              "    .dataframe thead th {\n",
              "        text-align: right;\n",
              "    }\n",
              "</style>\n",
              "<table border=\"1\" class=\"dataframe\">\n",
              "  <thead>\n",
              "    <tr style=\"text-align: right;\">\n",
              "      <th></th>\n",
              "      <th>Unnamed: 0</th>\n",
              "      <th>Id</th>\n",
              "      <th>groupId</th>\n",
              "      <th>matchId</th>\n",
              "      <th>assists</th>\n",
              "      <th>boosts</th>\n",
              "      <th>damageDealt</th>\n",
              "      <th>DBNOs</th>\n",
              "      <th>headshotKills</th>\n",
              "      <th>heals</th>\n",
              "      <th>...</th>\n",
              "      <th>revives</th>\n",
              "      <th>rideDistance</th>\n",
              "      <th>roadKills</th>\n",
              "      <th>swimDistance</th>\n",
              "      <th>teamKills</th>\n",
              "      <th>vehicleDestroys</th>\n",
              "      <th>walkDistance</th>\n",
              "      <th>weaponsAcquired</th>\n",
              "      <th>winPoints</th>\n",
              "      <th>winPlacePerc</th>\n",
              "    </tr>\n",
              "  </thead>\n",
              "  <tbody>\n",
              "    <tr>\n",
              "      <th>4357336</th>\n",
              "      <td>0</td>\n",
              "      <td>47734</td>\n",
              "      <td>1659463</td>\n",
              "      <td>47734</td>\n",
              "      <td>0</td>\n",
              "      <td>0</td>\n",
              "      <td>100.0</td>\n",
              "      <td>1</td>\n",
              "      <td>0</td>\n",
              "      <td>0</td>\n",
              "      <td>...</td>\n",
              "      <td>0</td>\n",
              "      <td>0.0</td>\n",
              "      <td>0</td>\n",
              "      <td>0.0</td>\n",
              "      <td>1</td>\n",
              "      <td>0</td>\n",
              "      <td>421.50</td>\n",
              "      <td>7</td>\n",
              "      <td>1500</td>\n",
              "      <td>NaN</td>\n",
              "    </tr>\n",
              "    <tr>\n",
              "      <th>4357337</th>\n",
              "      <td>1</td>\n",
              "      <td>47735</td>\n",
              "      <td>1659508</td>\n",
              "      <td>47735</td>\n",
              "      <td>0</td>\n",
              "      <td>1</td>\n",
              "      <td>400.0</td>\n",
              "      <td>2</td>\n",
              "      <td>0</td>\n",
              "      <td>3</td>\n",
              "      <td>...</td>\n",
              "      <td>1</td>\n",
              "      <td>0.0</td>\n",
              "      <td>0</td>\n",
              "      <td>0.0</td>\n",
              "      <td>0</td>\n",
              "      <td>0</td>\n",
              "      <td>655.80</td>\n",
              "      <td>4</td>\n",
              "      <td>1526</td>\n",
              "      <td>NaN</td>\n",
              "    </tr>\n",
              "    <tr>\n",
              "      <th>4357338</th>\n",
              "      <td>2</td>\n",
              "      <td>47736</td>\n",
              "      <td>1659555</td>\n",
              "      <td>47736</td>\n",
              "      <td>0</td>\n",
              "      <td>0</td>\n",
              "      <td>0.0</td>\n",
              "      <td>0</td>\n",
              "      <td>0</td>\n",
              "      <td>0</td>\n",
              "      <td>...</td>\n",
              "      <td>0</td>\n",
              "      <td>0.0</td>\n",
              "      <td>0</td>\n",
              "      <td>0.0</td>\n",
              "      <td>0</td>\n",
              "      <td>0</td>\n",
              "      <td>74.58</td>\n",
              "      <td>1</td>\n",
              "      <td>1475</td>\n",
              "      <td>NaN</td>\n",
              "    </tr>\n",
              "    <tr>\n",
              "      <th>4357339</th>\n",
              "      <td>3</td>\n",
              "      <td>47737</td>\n",
              "      <td>1659621</td>\n",
              "      <td>47737</td>\n",
              "      <td>0</td>\n",
              "      <td>0</td>\n",
              "      <td>68.6</td>\n",
              "      <td>0</td>\n",
              "      <td>0</td>\n",
              "      <td>0</td>\n",
              "      <td>...</td>\n",
              "      <td>0</td>\n",
              "      <td>0.0</td>\n",
              "      <td>0</td>\n",
              "      <td>0.0</td>\n",
              "      <td>0</td>\n",
              "      <td>0</td>\n",
              "      <td>167.20</td>\n",
              "      <td>2</td>\n",
              "      <td>1464</td>\n",
              "      <td>NaN</td>\n",
              "    </tr>\n",
              "    <tr>\n",
              "      <th>4357340</th>\n",
              "      <td>4</td>\n",
              "      <td>47738</td>\n",
              "      <td>1659675</td>\n",
              "      <td>47738</td>\n",
              "      <td>0</td>\n",
              "      <td>1</td>\n",
              "      <td>370.5</td>\n",
              "      <td>3</td>\n",
              "      <td>0</td>\n",
              "      <td>1</td>\n",
              "      <td>...</td>\n",
              "      <td>0</td>\n",
              "      <td>0.0</td>\n",
              "      <td>0</td>\n",
              "      <td>0.0</td>\n",
              "      <td>0</td>\n",
              "      <td>0</td>\n",
              "      <td>146.70</td>\n",
              "      <td>3</td>\n",
              "      <td>1505</td>\n",
              "      <td>NaN</td>\n",
              "    </tr>\n",
              "  </tbody>\n",
              "</table>\n",
              "<p>5 rows × 27 columns</p>\n",
              "</div>\n",
              "    <div class=\"colab-df-buttons\">\n",
              "\n",
              "  <div class=\"colab-df-container\">\n",
              "    <button class=\"colab-df-convert\" onclick=\"convertToInteractive('df-64216a9b-b0bc-41f5-a7d2-72e2245693cc')\"\n",
              "            title=\"Convert this dataframe to an interactive table.\"\n",
              "            style=\"display:none;\">\n",
              "\n",
              "  <svg xmlns=\"http://www.w3.org/2000/svg\" height=\"24px\" viewBox=\"0 -960 960 960\">\n",
              "    <path d=\"M120-120v-720h720v720H120Zm60-500h600v-160H180v160Zm220 220h160v-160H400v160Zm0 220h160v-160H400v160ZM180-400h160v-160H180v160Zm440 0h160v-160H620v160ZM180-180h160v-160H180v160Zm440 0h160v-160H620v160Z\"/>\n",
              "  </svg>\n",
              "    </button>\n",
              "\n",
              "  <style>\n",
              "    .colab-df-container {\n",
              "      display:flex;\n",
              "      gap: 12px;\n",
              "    }\n",
              "\n",
              "    .colab-df-convert {\n",
              "      background-color: #E8F0FE;\n",
              "      border: none;\n",
              "      border-radius: 50%;\n",
              "      cursor: pointer;\n",
              "      display: none;\n",
              "      fill: #1967D2;\n",
              "      height: 32px;\n",
              "      padding: 0 0 0 0;\n",
              "      width: 32px;\n",
              "    }\n",
              "\n",
              "    .colab-df-convert:hover {\n",
              "      background-color: #E2EBFA;\n",
              "      box-shadow: 0px 1px 2px rgba(60, 64, 67, 0.3), 0px 1px 3px 1px rgba(60, 64, 67, 0.15);\n",
              "      fill: #174EA6;\n",
              "    }\n",
              "\n",
              "    .colab-df-buttons div {\n",
              "      margin-bottom: 4px;\n",
              "    }\n",
              "\n",
              "    [theme=dark] .colab-df-convert {\n",
              "      background-color: #3B4455;\n",
              "      fill: #D2E3FC;\n",
              "    }\n",
              "\n",
              "    [theme=dark] .colab-df-convert:hover {\n",
              "      background-color: #434B5C;\n",
              "      box-shadow: 0px 1px 3px 1px rgba(0, 0, 0, 0.15);\n",
              "      filter: drop-shadow(0px 1px 2px rgba(0, 0, 0, 0.3));\n",
              "      fill: #FFFFFF;\n",
              "    }\n",
              "  </style>\n",
              "\n",
              "    <script>\n",
              "      const buttonEl =\n",
              "        document.querySelector('#df-64216a9b-b0bc-41f5-a7d2-72e2245693cc button.colab-df-convert');\n",
              "      buttonEl.style.display =\n",
              "        google.colab.kernel.accessAllowed ? 'block' : 'none';\n",
              "\n",
              "      async function convertToInteractive(key) {\n",
              "        const element = document.querySelector('#df-64216a9b-b0bc-41f5-a7d2-72e2245693cc');\n",
              "        const dataTable =\n",
              "          await google.colab.kernel.invokeFunction('convertToInteractive',\n",
              "                                                    [key], {});\n",
              "        if (!dataTable) return;\n",
              "\n",
              "        const docLinkHtml = 'Like what you see? Visit the ' +\n",
              "          '<a target=\"_blank\" href=https://colab.research.google.com/notebooks/data_table.ipynb>data table notebook</a>'\n",
              "          + ' to learn more about interactive tables.';\n",
              "        element.innerHTML = '';\n",
              "        dataTable['output_type'] = 'display_data';\n",
              "        await google.colab.output.renderOutput(dataTable, element);\n",
              "        const docLink = document.createElement('div');\n",
              "        docLink.innerHTML = docLinkHtml;\n",
              "        element.appendChild(docLink);\n",
              "      }\n",
              "    </script>\n",
              "  </div>\n",
              "\n",
              "\n",
              "<div id=\"df-46e9c19e-c99f-4207-94d2-736749993a1b\">\n",
              "  <button class=\"colab-df-quickchart\" onclick=\"quickchart('df-46e9c19e-c99f-4207-94d2-736749993a1b')\"\n",
              "            title=\"Suggest charts\"\n",
              "            style=\"display:none;\">\n",
              "\n",
              "<svg xmlns=\"http://www.w3.org/2000/svg\" height=\"24px\"viewBox=\"0 0 24 24\"\n",
              "     width=\"24px\">\n",
              "    <g>\n",
              "        <path d=\"M19 3H5c-1.1 0-2 .9-2 2v14c0 1.1.9 2 2 2h14c1.1 0 2-.9 2-2V5c0-1.1-.9-2-2-2zM9 17H7v-7h2v7zm4 0h-2V7h2v10zm4 0h-2v-4h2v4z\"/>\n",
              "    </g>\n",
              "</svg>\n",
              "  </button>\n",
              "\n",
              "<style>\n",
              "  .colab-df-quickchart {\n",
              "      --bg-color: #E8F0FE;\n",
              "      --fill-color: #1967D2;\n",
              "      --hover-bg-color: #E2EBFA;\n",
              "      --hover-fill-color: #174EA6;\n",
              "      --disabled-fill-color: #AAA;\n",
              "      --disabled-bg-color: #DDD;\n",
              "  }\n",
              "\n",
              "  [theme=dark] .colab-df-quickchart {\n",
              "      --bg-color: #3B4455;\n",
              "      --fill-color: #D2E3FC;\n",
              "      --hover-bg-color: #434B5C;\n",
              "      --hover-fill-color: #FFFFFF;\n",
              "      --disabled-bg-color: #3B4455;\n",
              "      --disabled-fill-color: #666;\n",
              "  }\n",
              "\n",
              "  .colab-df-quickchart {\n",
              "    background-color: var(--bg-color);\n",
              "    border: none;\n",
              "    border-radius: 50%;\n",
              "    cursor: pointer;\n",
              "    display: none;\n",
              "    fill: var(--fill-color);\n",
              "    height: 32px;\n",
              "    padding: 0;\n",
              "    width: 32px;\n",
              "  }\n",
              "\n",
              "  .colab-df-quickchart:hover {\n",
              "    background-color: var(--hover-bg-color);\n",
              "    box-shadow: 0 1px 2px rgba(60, 64, 67, 0.3), 0 1px 3px 1px rgba(60, 64, 67, 0.15);\n",
              "    fill: var(--button-hover-fill-color);\n",
              "  }\n",
              "\n",
              "  .colab-df-quickchart-complete:disabled,\n",
              "  .colab-df-quickchart-complete:disabled:hover {\n",
              "    background-color: var(--disabled-bg-color);\n",
              "    fill: var(--disabled-fill-color);\n",
              "    box-shadow: none;\n",
              "  }\n",
              "\n",
              "  .colab-df-spinner {\n",
              "    border: 2px solid var(--fill-color);\n",
              "    border-color: transparent;\n",
              "    border-bottom-color: var(--fill-color);\n",
              "    animation:\n",
              "      spin 1s steps(1) infinite;\n",
              "  }\n",
              "\n",
              "  @keyframes spin {\n",
              "    0% {\n",
              "      border-color: transparent;\n",
              "      border-bottom-color: var(--fill-color);\n",
              "      border-left-color: var(--fill-color);\n",
              "    }\n",
              "    20% {\n",
              "      border-color: transparent;\n",
              "      border-left-color: var(--fill-color);\n",
              "      border-top-color: var(--fill-color);\n",
              "    }\n",
              "    30% {\n",
              "      border-color: transparent;\n",
              "      border-left-color: var(--fill-color);\n",
              "      border-top-color: var(--fill-color);\n",
              "      border-right-color: var(--fill-color);\n",
              "    }\n",
              "    40% {\n",
              "      border-color: transparent;\n",
              "      border-right-color: var(--fill-color);\n",
              "      border-top-color: var(--fill-color);\n",
              "    }\n",
              "    60% {\n",
              "      border-color: transparent;\n",
              "      border-right-color: var(--fill-color);\n",
              "    }\n",
              "    80% {\n",
              "      border-color: transparent;\n",
              "      border-right-color: var(--fill-color);\n",
              "      border-bottom-color: var(--fill-color);\n",
              "    }\n",
              "    90% {\n",
              "      border-color: transparent;\n",
              "      border-bottom-color: var(--fill-color);\n",
              "    }\n",
              "  }\n",
              "</style>\n",
              "\n",
              "  <script>\n",
              "    async function quickchart(key) {\n",
              "      const quickchartButtonEl =\n",
              "        document.querySelector('#' + key + ' button');\n",
              "      quickchartButtonEl.disabled = true;  // To prevent multiple clicks.\n",
              "      quickchartButtonEl.classList.add('colab-df-spinner');\n",
              "      try {\n",
              "        const charts = await google.colab.kernel.invokeFunction(\n",
              "            'suggestCharts', [key], {});\n",
              "      } catch (error) {\n",
              "        console.error('Error during call to suggestCharts:', error);\n",
              "      }\n",
              "      quickchartButtonEl.classList.remove('colab-df-spinner');\n",
              "      quickchartButtonEl.classList.add('colab-df-quickchart-complete');\n",
              "    }\n",
              "    (() => {\n",
              "      let quickchartButtonEl =\n",
              "        document.querySelector('#df-46e9c19e-c99f-4207-94d2-736749993a1b button');\n",
              "      quickchartButtonEl.style.display =\n",
              "        google.colab.kernel.accessAllowed ? 'block' : 'none';\n",
              "    })();\n",
              "  </script>\n",
              "</div>\n",
              "\n",
              "    </div>\n",
              "  </div>\n"
            ],
            "text/plain": [
              "         Unnamed: 0     Id  groupId  matchId  assists  boosts  damageDealt  \\\n",
              "4357336           0  47734  1659463    47734        0       0        100.0   \n",
              "4357337           1  47735  1659508    47735        0       1        400.0   \n",
              "4357338           2  47736  1659555    47736        0       0          0.0   \n",
              "4357339           3  47737  1659621    47737        0       0         68.6   \n",
              "4357340           4  47738  1659675    47738        0       1        370.5   \n",
              "\n",
              "         DBNOs  headshotKills  heals  ...  revives  rideDistance  roadKills  \\\n",
              "4357336      1              0      0  ...        0           0.0          0   \n",
              "4357337      2              0      3  ...        1           0.0          0   \n",
              "4357338      0              0      0  ...        0           0.0          0   \n",
              "4357339      0              0      0  ...        0           0.0          0   \n",
              "4357340      3              0      1  ...        0           0.0          0   \n",
              "\n",
              "         swimDistance  teamKills  vehicleDestroys  walkDistance  \\\n",
              "4357336           0.0          1                0        421.50   \n",
              "4357337           0.0          0                0        655.80   \n",
              "4357338           0.0          0                0         74.58   \n",
              "4357339           0.0          0                0        167.20   \n",
              "4357340           0.0          0                0        146.70   \n",
              "\n",
              "         weaponsAcquired  winPoints  winPlacePerc  \n",
              "4357336                7       1500           NaN  \n",
              "4357337                4       1526           NaN  \n",
              "4357338                1       1475           NaN  \n",
              "4357339                2       1464           NaN  \n",
              "4357340                3       1505           NaN  \n",
              "\n",
              "[5 rows x 27 columns]"
            ]
          },
          "execution_count": 9,
          "metadata": {},
          "output_type": "execute_result"
        }
      ],
      "source": [
        "per_0 = ga_df[ga_df['winPlacePerc']==0]\n",
        "null_winPlacePerc = ga_df[ga_df['winPlacePerc'].isnull()]\n",
        "null_winPlacePerc.head()\n"
      ]
    },
    {
      "cell_type": "markdown",
      "metadata": {
        "id": "biiBk87wYRB8"
      },
      "source": [
        "### Question 02\n",
        "\n",
        "```\n",
        "다음 가설들을 데이터 분석을 통해 검증하시오.\n",
        "\n",
        "[가설]\n",
        "Without moving & WeaponsAcquired - analyze\n",
        " : 이동 없이 무기를 획득한 버그 유저가 존재할까?\n",
        "\n",
        "  (1) _totalDistance가 하위 10%인 Data set을 만드시오.\n",
        "  (※ '_totalDistance' = 'rideDistance' + 'walkDistance' + 'swimDistance')\n",
        "\n",
        "  (2) 1번에서 만든 Data set에서 weaponsAcquired가 상위 1%인 버그의심 유저 수를 출력하시오.\n",
        "\n",
        "```"
      ]
    },
    {
      "cell_type": "code",
      "execution_count": null,
      "metadata": {
        "colab": {
          "base_uri": "https://localhost:8080/"
        },
        "id": "CD8I7iP3YRdE",
        "outputId": "2574b14f-9778-4cca-f477-a6957cb38e23"
      },
      "outputs": [
        {
          "name": "stdout",
          "output_type": "stream",
          "text": [
            "총 거리가 하위 10%이면서 무기 획득량이 상위 1%인 버그 의심 유저 수 =  2514\n"
          ]
        }
      ],
      "source": [
        "import numpy as np\n",
        "# 총 거리 데이터 만들기\n",
        "ga_df['_totalDistance'] = ga_df['rideDistance'] + ga_df['walkDistance'] + ga_df['swimDistance']\n",
        "# 총 거리 하위 10%의 데이터 따오기\n",
        "per_10 = np.percentile(ga_df['_totalDistance'], 10)\n",
        "# 총 거리 하위 10%의 데이터셋 만들기\n",
        "low_10 = ga_df[ga_df['_totalDistance']<=per_10]\n",
        "# 여기서 weaponsAcquired가 상위 1%인 데이터 따오기\n",
        "weap_1 = np.percentile(ga_df['weaponsAcquired'], 99)\n",
        "# 여기서 weaponsAcquired가 상위 1%인 버그 의심 유저 추출\n",
        "low_10_weap_1 = low_10[low_10['weaponsAcquired'] >= weap_1]\n",
        "print('총 거리가 하위 10%이면서 무기 획득량이 상위 1%인 버그 의심 유저 수 = ', len(low_10_weap_1))"
      ]
    },
    {
      "cell_type": "markdown",
      "metadata": {
        "id": "IsBC5AywYR5b"
      },
      "source": [
        "### Question 03\n",
        "\n",
        "```\n",
        "상위 가설 이외에 주어진 데이터를 활용하여 다른 Action을 하는 버그 유저들을 식별하시오.\n",
        "```"
      ]
    },
    {
      "cell_type": "markdown",
      "metadata": {
        "id": "KRVAdeIHYTx1"
      },
      "source": [
        "가설\n",
        "1. 이동수단으로 이동하지 않았는데 적을 이동수단으로 제압한 경우"
      ]
    },
    {
      "cell_type": "code",
      "execution_count": null,
      "metadata": {
        "colab": {
          "base_uri": "https://localhost:8080/"
        },
        "id": "W8U2KFQ3YU_3",
        "outputId": "a679ac7e-6096-4940-ca41-71633826f683"
      },
      "outputs": [
        {
          "name": "stdout",
          "output_type": "stream",
          "text": [
            "이동 수단 버그 의심 유저 수 = 529\n"
          ]
        }
      ],
      "source": [
        "# 이동수단으로 사람을 제압한적이있는 유저\n",
        "road_df = ga_df[ga_df['roadKills'] != 0 ]\n",
        "road_bug = road_df[road_df['rideDistance'] == 0]\n",
        "print('이동 수단 버그 의심 유저 수 =', len(road_bug))"
      ]
    },
    {
      "cell_type": "markdown",
      "metadata": {
        "id": "o4v_Gw6iYWhm"
      },
      "source": [
        "가설\n",
        "2. 헤드샷 고정 버그로 인한 기절횟수=헤드샷킬수"
      ]
    },
    {
      "cell_type": "code",
      "execution_count": null,
      "metadata": {
        "colab": {
          "base_uri": "https://localhost:8080/"
        },
        "id": "Xd0F9xC_YWwM",
        "outputId": "531f183b-61b3-40d0-b24c-6c1a8c2aa812"
      },
      "outputs": [
        {
          "data": {
            "text/plain": [
              "688949"
            ]
          },
          "execution_count": 12,
          "metadata": {},
          "output_type": "execute_result"
        }
      ],
      "source": [
        "# 헤드샷 = 상대 기절횟수면서 기절시킨 적이 있는 유저 제외한 필터\n",
        "head_bug = ga_df[(ga_df['kills']==ga_df['headshotKills']) & (ga_df['DBNOs']!=0)]\n",
        "len(head_bug)"
      ]
    },
    {
      "cell_type": "markdown",
      "metadata": {
        "id": "U74IceayYYj5"
      },
      "source": [
        "1킬한 인원도 많아 기절횟수 상위 20%센트로 줄여서 확인"
      ]
    },
    {
      "cell_type": "code",
      "execution_count": null,
      "metadata": {
        "colab": {
          "base_uri": "https://localhost:8080/"
        },
        "id": "BGRNu-w5YVjs",
        "outputId": "fb51a2ae-d5c2-4206-cdc1-7d9dcd7d07c3"
      },
      "outputs": [
        {
          "name": "stdout",
          "output_type": "stream",
          "text": [
            "상위 2% 죽인  횟수 = 6\n",
            "6킬 이상하고 죽인 횟수가 헤드샷 횟수랑 같은 헤드샷 버그 의심 유저 수 = 138\n"
          ]
        }
      ],
      "source": [
        "# 죽인  횟수 상위 2%의 데이터 따오기\n",
        "per_2 = np.percentile(ga_df['kills'], 98)\n",
        "print('상위 2% 죽인  횟수 =', int(per_2))\n",
        "# 죽인  횟수 상위 2%의 데이터셋 만들기\n",
        "high_2 = head_bug[head_bug['kills']>=per_2]\n",
        "print(f'{int(per_2)}킬 이상하고 죽인 횟수가 헤드샷 횟수랑 같은 헤드샷 버그 의심 유저 수 =',len(high_2))"
      ]
    },
    {
      "cell_type": "markdown",
      "metadata": {
        "id": "JAg3DgnOYetN"
      },
      "source": [
        "가설\n",
        "3. 적이 보이지 않는데 죽이는 버그가 존재하지 않을까?\n",
        "    - 적을 죽은시점에서 나와 죽은적의 거리가 이동수단의 거리의 평균보다 긴경우"
      ]
    },
    {
      "cell_type": "code",
      "execution_count": null,
      "metadata": {
        "colab": {
          "base_uri": "https://localhost:8080/"
        },
        "id": "x_0HBRknYfSK",
        "outputId": "74bd1212-5c35-4a31-a5a9-06927cc2c2ea"
      },
      "outputs": [
        {
          "name": "stdout",
          "output_type": "stream",
          "text": [
            "평균 이동수단 거리인 424 보다 먼 거리에서 적을 죽인 유저의 수 = 3324\n"
          ]
        }
      ],
      "source": [
        "# 평균 이동 수단 거리 구하기\n",
        "mean_ride = ga_df['rideDistance'].mean()\n",
        "# 평균 이동수단 거리보다 먼 거리에서 적을 죽인 경우 필터\n",
        "long_bug = ga_df[ga_df['longestKill']>= mean_ride]\n",
        "print(f'평균 이동수단 거리인 {int(mean_ride)} 보다 먼 거리에서 적을 죽인 유저의 수 = {len(long_bug)}')"
      ]
    }
  ],
  "metadata": {
    "colab": {
      "gpuType": "T4",
      "provenance": []
    },
    "kernelspec": {
      "display_name": "Python 3",
      "name": "python3"
    },
    "language_info": {
      "name": "python"
    }
  },
  "nbformat": 4,
  "nbformat_minor": 0
}
